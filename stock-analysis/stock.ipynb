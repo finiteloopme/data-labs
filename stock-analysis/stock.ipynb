{
 "cells": [
  {
   "cell_type": "code",
   "execution_count": 1,
   "id": "2983c6e9-ffb0-4161-bab9-25a1db52e63f",
   "metadata": {},
   "outputs": [
    {
     "name": "stdout",
     "output_type": "stream",
     "text": [
      "Requirement already satisfied: yfinance in /opt/conda/lib/python3.7/site-packages (0.1.70)\n",
      "Requirement already satisfied: lxml>=4.5.1 in /opt/conda/lib/python3.7/site-packages (from yfinance) (4.8.0)\n",
      "Requirement already satisfied: numpy>=1.15 in /opt/conda/lib/python3.7/site-packages (from yfinance) (1.21.5)\n",
      "Requirement already satisfied: requests>=2.26 in /opt/conda/lib/python3.7/site-packages (from yfinance) (2.27.1)\n",
      "Requirement already satisfied: multitasking>=0.0.7 in /opt/conda/lib/python3.7/site-packages (from yfinance) (0.0.10)\n",
      "Requirement already satisfied: pandas>=0.24.0 in /opt/conda/lib/python3.7/site-packages (from yfinance) (1.3.5)\n",
      "Requirement already satisfied: python-dateutil>=2.7.3 in /opt/conda/lib/python3.7/site-packages (from pandas>=0.24.0->yfinance) (2.8.2)\n",
      "Requirement already satisfied: pytz>=2017.3 in /opt/conda/lib/python3.7/site-packages (from pandas>=0.24.0->yfinance) (2021.3)\n",
      "Requirement already satisfied: idna<4,>=2.5 in /opt/conda/lib/python3.7/site-packages (from requests>=2.26->yfinance) (3.3)\n",
      "Requirement already satisfied: certifi>=2017.4.17 in /opt/conda/lib/python3.7/site-packages (from requests>=2.26->yfinance) (2021.10.8)\n",
      "Requirement already satisfied: urllib3<1.27,>=1.21.1 in /opt/conda/lib/python3.7/site-packages (from requests>=2.26->yfinance) (1.26.8)\n",
      "Requirement already satisfied: charset-normalizer~=2.0.0 in /opt/conda/lib/python3.7/site-packages (from requests>=2.26->yfinance) (2.0.12)\n",
      "Requirement already satisfied: six>=1.5 in /opt/conda/lib/python3.7/site-packages (from python-dateutil>=2.7.3->pandas>=0.24.0->yfinance) (1.16.0)\n",
      "Requirement already satisfied: feedparser in /opt/conda/lib/python3.7/site-packages (6.0.8)\n",
      "Requirement already satisfied: sgmllib3k in /opt/conda/lib/python3.7/site-packages (from feedparser) (1.0.0)\n",
      "Requirement already satisfied: html5lib in /opt/conda/lib/python3.7/site-packages (1.1)\n",
      "Requirement already satisfied: six>=1.9 in /opt/conda/lib/python3.7/site-packages (from html5lib) (1.16.0)\n",
      "Requirement already satisfied: webencodings in /opt/conda/lib/python3.7/site-packages (from html5lib) (0.5.1)\n"
     ]
    }
   ],
   "source": [
    "# Install the required deps\n",
    "# reading data from yahoo finance\n",
    "!pip install yfinance\n",
    "# rss feed to read news & articles\n",
    "!pip install feedparser\n",
    "!pip install html5lib\n"
   ]
  },
  {
   "cell_type": "code",
   "execution_count": 2,
   "id": "d99cc440-6a35-40b2-bc47-77462f330693",
   "metadata": {},
   "outputs": [],
   "source": [
    "import yfinance as yf\n",
    "from datetime import date, timedelta\n",
    "import feedparser\n",
    "import pandas as pd"
   ]
  },
  {
   "cell_type": "code",
   "execution_count": 3,
   "id": "f69bcc45-3d6d-4038-8dbf-987818fafe23",
   "metadata": {},
   "outputs": [],
   "source": [
    "# Function to download the required dataset\n",
    "\n",
    "def getTicker(stockSymbol=\"MSFT\"):\n",
    "    return yf.Ticker(stockSymbol)\n",
    "\n",
    "# def getStockData(stockSymbol=\"MSFT\", timeInterval=\"1d\", startDate=\"2010-1-1\", endDate=\"2020-1-25\"):\n",
    "def getStockData(stockTicker=getTicker(), timeInterval=\"1d\", startDate=\"\", endDate=\"\"):\n",
    "    # If start date not set, default to last 30 days\n",
    "    if not startDate:\n",
    "        if not endDate:\n",
    "            end = date.today() #.strftime(\"%Y-%m-%d\")\n",
    "        start = end - timedelta(days=30)\n",
    "        startDate = start.strftime(\"%Y-%m-%d\")\n",
    "        endDate = end.strftime(\"%Y-%m-%d\")\n",
    "\n",
    "    #get the historical prices for this ticker\n",
    "    tickerDf = stockTicker.history(period=timeInterval, start=startDate, end=endDate)\n",
    "    return tickerDf"
   ]
  },
  {
   "cell_type": "code",
   "execution_count": 4,
   "id": "7984489b-e2c7-48a8-a9d2-4b77eaef1fc2",
   "metadata": {},
   "outputs": [],
   "source": [
    "# Handle RSS feeds\n",
    "# Good list of business news RSS feeds: https://blog.elink.io/business-rss-feeds/\n",
    "\n",
    "def getFeed(rssURL=\"https://finance.yahoo.com/news/rssindex\"):\n",
    "    return feedparser.parse(rssURL)"
   ]
  },
  {
   "cell_type": "code",
   "execution_count": 5,
   "id": "bb7eaefb-db0a-4c5a-80be-54efd4d7ea60",
   "metadata": {},
   "outputs": [],
   "source": [
    "tickerSymbol = \"MSFT\"\n",
    "\n",
    "ticker = getTicker(tickerSymbol)\n",
    "stockData = getStockData(stockTicker = ticker)"
   ]
  },
  {
   "cell_type": "code",
   "execution_count": 6,
   "id": "584c8b06-4009-4bb1-a0d0-01288b2e2f46",
   "metadata": {},
   "outputs": [
    {
     "data": {
      "text/plain": [
       "'Microsoft Corporation'"
      ]
     },
     "execution_count": 6,
     "metadata": {},
     "output_type": "execute_result"
    }
   ],
   "source": [
    "name = ticker.info.get('shortName')\n",
    "name"
   ]
  },
  {
   "cell_type": "code",
   "execution_count": 7,
   "id": "aa13f5f8-0815-4a2c-940f-c572974ccb9b",
   "metadata": {},
   "outputs": [
    {
     "data": {
      "text/plain": [
       "'https://finance.yahoo.com/news/only-one-way-twitter-dodge-172150330.html'"
      ]
     },
     "execution_count": 7,
     "metadata": {},
     "output_type": "execute_result"
    }
   ],
   "source": [
    "url = getFeed().get('entries')[0].get(\"links\")[0].get(\"href\")\n",
    "url"
   ]
  },
  {
   "cell_type": "code",
   "execution_count": 8,
   "id": "5c31fc22-c694-4e3a-b44b-2a1aac798b1e",
   "metadata": {},
   "outputs": [],
   "source": [
    "# page = requests.get(url)\n",
    "# htmlDoc = html.fromstring(page.content)\n",
    "\n",
    "# def getPage(url):\n",
    "#     driver = webdriver.Chrome()\n",
    "#     driver.get(url)\n",
    "#     return driver.find_element_by_name(\"body\")"
   ]
  },
  {
   "cell_type": "code",
   "execution_count": 9,
   "id": "f074a199-09d2-46cf-992c-b1a3017cf476",
   "metadata": {},
   "outputs": [],
   "source": [
    "#getPage(url)"
   ]
  },
  {
   "cell_type": "code",
   "execution_count": null,
   "id": "71ed9c9d-b0e3-432f-baa4-0c95264ab3e7",
   "metadata": {},
   "outputs": [],
   "source": []
  },
  {
   "cell_type": "code",
   "execution_count": 10,
   "id": "e7a5e01e-5e85-40ab-8744-b0aeedac9803",
   "metadata": {},
   "outputs": [],
   "source": [
    "url = \"https://finance.yahoo.com/news/buy-3-electric-vehicle-stocks-005750597.html\""
   ]
  },
  {
   "cell_type": "code",
   "execution_count": 22,
   "id": "17d362e6-6494-4495-8de4-7bb28d8ca73c",
   "metadata": {},
   "outputs": [
    {
     "name": "stdout",
     "output_type": "stream",
     "text": [
      "https://groceries.asda.com/search/yogurt\n",
      "Number of results 0\n"
     ]
    }
   ],
   "source": [
    "# import libraries\n",
    "import urllib.request\n",
    "from bs4 import BeautifulSoup\n",
    "# specify the url\n",
    "urlpage = 'https://groceries.asda.com/search/yogurt' \n",
    "print(urlpage)\n",
    "# query the website and return the html to the variable 'page'\n",
    "page = urllib.request.urlopen(urlpage)\n",
    "# parse the html using beautiful soup and store in variable 'soup'\n",
    "soup = BeautifulSoup(page, 'html.parser')\n",
    "# print(soup.prettify())\n",
    "# find product items\n",
    "# at time of publication, Nov 2018:\n",
    "# results = soup.find_all('div', attrs={'class': 'listing category_templates clearfix productListing'})\n",
    "# updated Nov 2019:\n",
    "results = soup.find_all('div', attrs={'class': 'co-product'})\n",
    "print('Number of results', len(results))"
   ]
  },
  {
   "cell_type": "code",
   "execution_count": 27,
   "id": "a2ab96f6-f74b-4b60-997d-f1cba8250a74",
   "metadata": {},
   "outputs": [
    {
     "name": "stdout",
     "output_type": "stream",
     "text": [
      "https://finance.yahoo.com/news/buy-3-electric-vehicle-stocks-005750597.html\n"
     ]
    },
    {
     "name": "stderr",
     "output_type": "stream",
     "text": [
      "/opt/conda/lib/python3.7/site-packages/ipykernel_launcher.py:33: DeprecationWarning: find_elements_by_class_name is deprecated. Please use find_elements(by=By.CLASS_NAME, value=name) instead\n"
     ]
    },
    {
     "name": "stdout",
     "output_type": "stream",
     "text": [
      "Body:  1\n",
      "Content: We all know how the markets started this year by falling into correction territory. Electric Vehicle (EV) stocks were no exception, although there was no clear trend in the segment. Major EVs have fallen between 5% and 50% year-to-date, compared to the S&P 500’s 6% drop.\n",
      "Inflation is a key to understanding that performance. EVs will require new factory processes in their manufacture, and new sets of raw materials – and those raw materials don’t come cheap. A combination of increasing demand, production bottlenecks, and a snarled distribution chain have pushed up prices for lithium, nickel, and cobalt, vital battery metals, anywhere from 16% to 70%. And in addition to metals, auto companies are finding it difficult to procure everything from semiconductor chips to window glass to flooring carpets. The result is a surge in EV prices, which on average now run some $10,000 per unit higher than combustion vehicles.\n",
      "But this isn’t the only chapter in the story. EVs are also showing rapid technological improvements, with battery efficiency and vehicle range closing in on gasoline vehicle averages, and charging infrastructure expanding its footprint and adding newer ‘fast charging’ stations. We don’t know what the final look of the EV market will be; it’s clearly still evolving, and we’re in the early stages of the shift – but the consensus among the sector experts is, the future is electric.\n",
      "And that’s the underlying fact which will provide support for EV stocks. If there’s a demand for the product, then that demand will get filled – and that will open up opportunities for investors. To get a picture of those opportunities, as they now stand, we’ve used the TipRanks database to pinpoint three EV stocks that give investors a chance to ‘buy the dip,’ at least according to the analyst community.\n",
      "Lion Electric Company (LEV)\n",
      "We’ll start with a Canadian company, Quebec-based Lion Electric. This automaker focuses on some specific niches – fully electric school busses, urban transit busses, and commercial trucks. The company is one of North America’s largest EV manufacturers, and in addition to its line of 7 vehicles, Lion offers customers additional services such as parts & services, charging infrastructure, and financing. The company bills its vehicles – especially the flagship school busses – as turnkey solutions, and includes technician and driver training in the package. Lion boasts that all of its vehicles, of which some 550 are currently on the road, are zero-emission.\n",
      "Story continues\n"
     ]
    }
   ],
   "source": [
    "# import libraries\n",
    "import urllib.request\n",
    "from bs4 import BeautifulSoup\n",
    "from selenium import webdriver\n",
    "import time\n",
    "import pandas as pd\n",
    "# specify the url\n",
    "urlpage = 'https://groceries.asda.com/search/yogurt' \n",
    "urlpage = url\n",
    "print(urlpage)\n",
    "# run firefox webdriver from executable path of your choice\n",
    "chrome_options = webdriver.ChromeOptions()\n",
    "chrome_options.add_argument('--no-sandbox')\n",
    "chrome_options.add_argument('--window-size=1420,1080')\n",
    "chrome_options.add_argument('--headless')\n",
    "chrome_options.add_argument('--disable-gpu')\n",
    "driver = webdriver.Chrome(options=chrome_options)\n",
    "#driver = webdriver.Chrome(executable_path = '/usr/bin/chromedriver')\n",
    "\n",
    "# get web page\n",
    "driver.get(urlpage)\n",
    "# execute script to scroll down the page\n",
    "#driver.execute_script(\"window.scrollTo(0, document.body.scrollHeight);var lenOfPage=document.body.scrollHeight;return lenOfPage;\")\n",
    "# sleep for 30s\n",
    "time.sleep(5)\n",
    "# driver.quit()\n",
    "\n",
    "# find elements by xpath\n",
    "# at time of publication, Nov 2018:\n",
    "# results = driver.find_elements_by_xpath(\"//*[@id='componentsContainer']//*[contains(@id,'listingsContainer')]//*[@class='product active']//*[@class='title productTitle']\")\n",
    "# updated Nov 2019:\n",
    "# results = driver.find_elements(value=\"/html/body/div[3]/div/main/div[1]/div/div/div/div/article/div/div/div/div/div/div[2]/div[4]\")\n",
    "results = driver.find_elements_by_class_name(name=\"caas-body\")\n",
    "print('Body: ', len(results))\n",
    "print('Content:', results[0].text)\n",
    "driver.close()"
   ]
  },
  {
   "cell_type": "code",
   "execution_count": null,
   "id": "ec47adbc-63a8-4629-a1bc-2138a19fa123",
   "metadata": {},
   "outputs": [],
   "source": []
  },
  {
   "cell_type": "code",
   "execution_count": null,
   "id": "b459898f-56c4-4e47-8d0f-8373f6456e99",
   "metadata": {},
   "outputs": [],
   "source": []
  },
  {
   "cell_type": "code",
   "execution_count": null,
   "id": "45b28207-33a9-404a-bdfa-54eeb8f72e19",
   "metadata": {},
   "outputs": [],
   "source": []
  },
  {
   "cell_type": "code",
   "execution_count": null,
   "id": "d41bdcf9-d092-4301-a940-da59a04b1684",
   "metadata": {},
   "outputs": [],
   "source": []
  }
 ],
 "metadata": {
  "environment": {
   "kernel": "python3",
   "name": "tf2-gpu.2-8.m91",
   "type": "gcloud",
   "uri": "gcr.io/deeplearning-platform-release/tf2-gpu.2-8:m91"
  },
  "kernelspec": {
   "display_name": "Python 3",
   "language": "python",
   "name": "python3"
  },
  "language_info": {
   "codemirror_mode": {
    "name": "ipython",
    "version": 3
   },
   "file_extension": ".py",
   "mimetype": "text/x-python",
   "name": "python",
   "nbconvert_exporter": "python",
   "pygments_lexer": "ipython3",
   "version": "3.7.12"
  }
 },
 "nbformat": 4,
 "nbformat_minor": 5
}
